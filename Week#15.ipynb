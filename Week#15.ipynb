{
 "cells": [
  {
   "cell_type": "markdown",
   "metadata": {},
   "source": [
    "# Calculator"
   ]
  },
  {
   "cell_type": "code",
   "execution_count": 1,
   "metadata": {},
   "outputs": [
    {
     "name": "stdout",
     "output_type": "stream",
     "text": [
      "Please Enter the first Number5\n",
      "Please Enter the second Number6\n",
      "Please Enter Operator i.e +, -, *, /+\n",
      "5 + 6 =  11 \n"
     ]
    }
   ],
   "source": [
    "try:    \n",
    "    a = int(input(\"Please Enter the first Number\"))\n",
    "    b = int(input(\"Please Enter the second Number\"))\n",
    "    flag = False\n",
    "    while flag == False:\n",
    "        opr = input(\"Please Enter Operator i.e +, -, *, /\")\n",
    "        if opr == \"+\":\n",
    "            print(f\"{a} {opr} {b} =  {a+b} \")\n",
    "            break\n",
    "        elif opr == \"-\":\n",
    "            print(f\"{a} {opr} {b} =  {a-b} \")\n",
    "            break\n",
    "        elif opr == \"*\":\n",
    "            print(f\"{a} {opr} {b} =  {a*b} \")\n",
    "            break\n",
    "        elif opr == \"/\":\n",
    "            print(f\"{a} {opr} {b} =  {a/b} \")\n",
    "            break\n",
    "        else:\n",
    "            print(\"Please Enter correct Operator\")\n",
    "except Exception as E:\n",
    "    print(\"Handle error = \" + str(E))"
   ]
  },
  {
   "cell_type": "code",
   "execution_count": null,
   "metadata": {},
   "outputs": [],
   "source": []
  }
 ],
 "metadata": {
  "kernelspec": {
   "display_name": "Python 3",
   "language": "python",
   "name": "python3"
  },
  "language_info": {
   "codemirror_mode": {
    "name": "ipython",
    "version": 3
   },
   "file_extension": ".py",
   "mimetype": "text/x-python",
   "name": "python",
   "nbconvert_exporter": "python",
   "pygments_lexer": "ipython3",
   "version": "3.6.8"
  }
 },
 "nbformat": 4,
 "nbformat_minor": 2
}
